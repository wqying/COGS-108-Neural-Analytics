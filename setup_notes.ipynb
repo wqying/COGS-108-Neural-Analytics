{
 "cells": [
  {
   "cell_type": "code",
   "execution_count": null,
   "metadata": {},
   "outputs": [
    {
     "name": "stdout",
     "output_type": "stream",
     "text": [
      "1\n",
      "2\n",
      "3\n",
      "4\n",
      "5\n"
     ]
    }
   ],
   "source": [
    "# some refreshers on python syntax\n",
    "fake_list = [1, 2, 3, 4, 5]\n",
    "for i in fake_list:\n",
    "    print(i)"
   ]
  },
  {
   "cell_type": "code",
   "execution_count": null,
   "metadata": {},
   "outputs": [
    {
     "name": "stdout",
     "output_type": "stream",
     "text": [
      "[1, 2, 3, 4]\n",
      "[1 2 3 4]\n"
     ]
    }
   ],
   "source": [
    "# about numpy:\n",
    "# numpy arrays: similar to how lists work\n",
    "my_list = [1, 2, 3, 4]  # a simple list\n",
    "import numpy as np\n",
    "my_array = np.array(my_list)  # for numpy arrays, we pass a list into it\n",
    "print(my_list)\n",
    "print(my_array)\n",
    "# for lists, the elements are separated by commas\n",
    "# for arrays, the elements are separated by blanks\n",
    "# the difference is that in lists, those are elements\n",
    "# in arrays, it is a matrix with only one row"
   ]
  },
  {
   "cell_type": "code",
   "execution_count": null,
   "metadata": {},
   "outputs": [
    {
     "name": "stdout",
     "output_type": "stream",
     "text": [
      "[[1 2 3]\n",
      " [4 5 6]]\n"
     ]
    }
   ],
   "source": [
    "# 2D numpy array:\n",
    "two_d = np.array([[1, 2, 3], [4, 5, 6]])\n",
    "print(two_d)\n",
    "# note that I would need to pass the 'lists(matrix row)' into a []\n",
    "# so it is like nested lists, but in the form of matrices"
   ]
  },
  {
   "cell_type": "code",
   "execution_count": null,
   "metadata": {},
   "outputs": [
    {
     "name": "stdout",
     "output_type": "stream",
     "text": [
      "[ 6 15]\n",
      "[5 7 9]\n",
      "<class 'numpy.ndarray'>\n"
     ]
    }
   ],
   "source": [
    "row_sum = np.sum(two_d, axis=1)  # axis=1 means sum row-wise\n",
    "col_sum = np.sum(two_d, axis=0)  # axis=0 means sum column-wise\n",
    "print(row_sum)\n",
    "print(col_sum)"
   ]
  }
 ],
 "metadata": {
  "kernelspec": {
   "display_name": "sklearn-env",
   "language": "python",
   "name": "python3"
  },
  "language_info": {
   "codemirror_mode": {
    "name": "ipython",
    "version": 3
   },
   "file_extension": ".py",
   "mimetype": "text/x-python",
   "name": "python",
   "nbconvert_exporter": "python",
   "pygments_lexer": "ipython3",
   "version": "3.12.2"
  }
 },
 "nbformat": 4,
 "nbformat_minor": 2
}
